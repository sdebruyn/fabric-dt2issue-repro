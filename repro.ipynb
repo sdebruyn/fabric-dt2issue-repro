{
 "cells": [
  {
   "cell_type": "code",
   "execution_count": 22,
   "metadata": {},
   "outputs": [],
   "source": [
    "fabric_endpoint = \"somethingsecret.datawarehouse.pbidedicated.windows.net\"\n",
    "fabric_dwh_name = \"the name of your data warehouse\""
   ]
  },
  {
   "cell_type": "code",
   "execution_count": 23,
   "metadata": {},
   "outputs": [
    {
     "name": "stdout",
     "output_type": "stream",
     "text": [
      "DRIVER={ODBC Driver 18 for SQL Server};SERVER=somethingsecret.datawarehouse.pbidedicated.windows.net,1433;Database=the name of your data warehouse;encrypt=Yes;TrustServerCertificate=Yes\n"
     ]
    }
   ],
   "source": [
    "conn_str = \"DRIVER={ODBC Driver 18 for SQL Server};SERVER=\" + fabric_endpoint +\",1433;Database=\" + fabric_dwh_name +\";encrypt=Yes;TrustServerCertificate=Yes\"\n",
    "print(conn_str)"
   ]
  },
  {
   "cell_type": "code",
   "execution_count": 20,
   "metadata": {},
   "outputs": [],
   "source": [
    "from azure.identity import AzureCliCredential\n",
    "import struct\n",
    "from itertools import chain, repeat\n",
    "\n",
    "credential = AzureCliCredential()\n",
    "token = credential.get_token(\"https://database.windows.net//.default\")\n",
    "token_value = bytes(token.token, \"UTF-8\")\n",
    "encoded_bytes = bytes(chain.from_iterable(zip(token_value, repeat(0))))\n",
    "token_bytes = struct.pack(\"<i\", len(encoded_bytes)) + encoded_bytes\n",
    "attrs_before = {1256: token_bytes}"
   ]
  },
  {
   "cell_type": "code",
   "execution_count": 10,
   "metadata": {},
   "outputs": [],
   "source": [
    "import pyodbc\n",
    "\n",
    "connection = pyodbc.connect(\n",
    "                conn_str,\n",
    "                attrs_before=attrs_before,\n",
    "                autocommit=True,\n",
    "            )"
   ]
  },
  {
   "cell_type": "code",
   "execution_count": null,
   "metadata": {},
   "outputs": [],
   "source": [
    "def print_rows():\n",
    "    print(connection.cursor().execute(\"select * from repro_dt2_issue_schema.repro_dt2_issue_table\").fetchall())"
   ]
  },
  {
   "cell_type": "code",
   "execution_count": 11,
   "metadata": {},
   "outputs": [
    {
     "data": {
      "text/plain": [
       "<pyodbc.Cursor at 0x112919cb0>"
      ]
     },
     "execution_count": 11,
     "metadata": {},
     "output_type": "execute_result"
    }
   ],
   "source": [
    "connection.cursor().execute(\"create schema repro_dt2_issue_schema\")\n",
    "connection.cursor().execute(\"create table repro_dt2_issue_schema.repro_dt2_issue_table (id int, name varchar(100), dt2 datetime2(6))\")\n",
    "print_rows()"
   ]
  },
  {
   "cell_type": "code",
   "execution_count": 14,
   "metadata": {},
   "outputs": [
    {
     "data": {
      "text/plain": [
       "<pyodbc.Cursor at 0x113a1d9b0>"
      ]
     },
     "execution_count": 14,
     "metadata": {},
     "output_type": "execute_result"
    }
   ],
   "source": [
    "connection.cursor().execute(\"insert into repro_dt2_issue_schema.repro_dt2_issue_table values (1, 'test', '2021-01-01 00:00:00.000000')\")\n",
    "print_rows()"
   ]
  },
  {
   "cell_type": "code",
   "execution_count": 16,
   "metadata": {},
   "outputs": [],
   "source": [
    "sql = \"insert into repro_dt2_issue_schema.repro_dt2_issue_table(id, name, dt2) values (?, ?, ?)\"\n",
    "bindings = [2, 'another test', '2021-01-02 00:00:00.000000']\n",
    "connection.cursor().execute(sql, bindings)\n",
    "print_rows()"
   ]
  },
  {
   "attachments": {},
   "cell_type": "markdown",
   "metadata": {},
   "source": [
    "all of the above works fine\n",
    "\n",
    "it's only when we are working with `datetime` objects that we get the error"
   ]
  },
  {
   "cell_type": "code",
   "execution_count": 19,
   "metadata": {},
   "outputs": [
    {
     "ename": "ProgrammingError",
     "evalue": "('42000', '[42000] [Microsoft][ODBC Driver 18 for SQL Server][SQL Server]A precision value must be specified. The range of valid values is an integer value between 0 and 6. (24598) (SQLExecDirectW)')",
     "output_type": "error",
     "traceback": [
      "\u001b[0;31m---------------------------------------------------------------------------\u001b[0m",
      "\u001b[0;31mProgrammingError\u001b[0m                          Traceback (most recent call last)",
      "Cell \u001b[0;32mIn[19], line 7\u001b[0m\n\u001b[1;32m      5\u001b[0m sql \u001b[39m=\u001b[39m \u001b[39m\"\u001b[39m\u001b[39minsert into repro_dt2_issue_schema.repro_dt2_issue_table(id, name, dt2) values (?, ?, ?)\u001b[39m\u001b[39m\"\u001b[39m\n\u001b[1;32m      6\u001b[0m bindings \u001b[39m=\u001b[39m [Decimal(\u001b[39m3\u001b[39m), \u001b[39m'\u001b[39m\u001b[39manother test\u001b[39m\u001b[39m'\u001b[39m, datetime\u001b[39m.\u001b[39mdatetime(\u001b[39m2021\u001b[39m, \u001b[39m1\u001b[39m, \u001b[39m3\u001b[39m, \u001b[39m0\u001b[39m, \u001b[39m0\u001b[39m)]\n\u001b[0;32m----> 7\u001b[0m connection\u001b[39m.\u001b[39;49mcursor()\u001b[39m.\u001b[39;49mexecute(sql, bindings)\n\u001b[1;32m      8\u001b[0m print_rows()\n",
      "\u001b[0;31mProgrammingError\u001b[0m: ('42000', '[42000] [Microsoft][ODBC Driver 18 for SQL Server][SQL Server]A precision value must be specified. The range of valid values is an integer value between 0 and 6. (24598) (SQLExecDirectW)')"
     ]
    }
   ],
   "source": [
    "import datetime\n",
    "from decimal import Decimal\n",
    "\n",
    "\n",
    "sql = \"insert into repro_dt2_issue_schema.repro_dt2_issue_table(id, name, dt2) values (?, ?, ?)\"\n",
    "bindings = [Decimal(3), 'another test', datetime.datetime(2021, 1, 3, 0, 0)]\n",
    "connection.cursor().execute(sql, bindings)\n",
    "print_rows()"
   ]
  },
  {
   "attachments": {},
   "cell_type": "markdown",
   "metadata": {},
   "source": [
    "the error:\n",
    "\n",
    "ProgrammingError: ('42000', '[42000] [Microsoft][ODBC Driver 18 for SQL Server][SQL Server]A precision value must be specified. The range of valid values is an integer value between 0 and 6. (24598) (SQLExecDirectW)')"
   ]
  }
 ],
 "metadata": {
  "kernelspec": {
   "display_name": ".venv",
   "language": "python",
   "name": "python3"
  },
  "language_info": {
   "codemirror_mode": {
    "name": "ipython",
    "version": 3
   },
   "file_extension": ".py",
   "mimetype": "text/x-python",
   "name": "python",
   "nbconvert_exporter": "python",
   "pygments_lexer": "ipython3",
   "version": "3.11.3"
  },
  "orig_nbformat": 4
 },
 "nbformat": 4,
 "nbformat_minor": 2
}
